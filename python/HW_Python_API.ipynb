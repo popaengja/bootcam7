{
 "cells": [
  {
   "cell_type": "code",
   "execution_count": 26,
   "id": "ed156be8",
   "metadata": {},
   "outputs": [
    {
     "name": "stdout",
     "output_type": "stream",
     "text": [
      "                                           title    year score\n",
      "0             1. The Shawshank Redemption (1994)  (1994)    82\n",
      "1                        2. The Godfather (1972)  (1972)   100\n",
      "2  3. Spider-Man: Across the Spider-Verse (2023)  (2023)    86\n",
      "3                      4. The Dark Knight (2008)  (2008)    84\n",
      "4                     5. Schindler's List (1993)  (1993)    95\n"
     ]
    }
   ],
   "source": [
    "# Import required libraries\n",
    "from gazpacho import Soup\n",
    "from requests import get\n",
    "import pandas as pd\n",
    "\n",
    "def scrape_imdb_top_100(url):\n",
    "    # Send GET request\n",
    "    response = get(url)\n",
    "\n",
    "    # Check if request was successful\n",
    "    if response.status_code != 200:\n",
    "        return None\n",
    "\n",
    "    # Parse response text\n",
    "    imdb = Soup(response.text)\n",
    "\n",
    "    # Find and clean movie titles\n",
    "    titles = imdb.find(\"h3\", {\"class\": \"lister-item-header\"})\n",
    "    titles = [title.strip() for title in titles]\n",
    "\n",
    "    # Find and clean movie release years\n",
    "    years = imdb.find(\"span\", {\"class\" : \"lister-item-year\"})\n",
    "    years = [year.strip() for year in years]\n",
    "\n",
    "    # Find and clean movie metascores\n",
    "    metascores = imdb.find(\"span\", {\"class\" : \"metascore\"})\n",
    "    metascores = [metascore.strip() for metascore in metascores]\n",
    "\n",
    "    # Create a dataframe\n",
    "    df = pd.DataFrame({\n",
    "        \"title\" : titles,\n",
    "        \"year\" : years,\n",
    "        \"score\" : metascores\n",
    "    })\n",
    "\n",
    "    # Return dataframe\n",
    "    return df\n",
    "\n",
    "# Call the function\n",
    "url = \"https://www.imdb.com/search/title/?groups=top_100&sort=user_rating,desc\"\n",
    "df = scrape_imdb_top_100(url)\n",
    "\n",
    "# Show the first few rows of the dataframe\n",
    "print(df.head())\n",
    "\n",
    "# Save the dataframe to a CSV file\n",
    "df.to_csv(\"movies_imdb.csv\")\n"
   ]
  }
 ],
 "metadata": {
  "kernelspec": {
   "display_name": "Python 3 (ipykernel)",
   "language": "python",
   "name": "python3"
  },
  "language_info": {
   "codemirror_mode": {
    "name": "ipython",
    "version": 3
   },
   "file_extension": ".py",
   "mimetype": "text/x-python",
   "name": "python",
   "nbconvert_exporter": "python",
   "pygments_lexer": "ipython3",
   "version": "3.9.13"
  }
 },
 "nbformat": 4,
 "nbformat_minor": 5
}
