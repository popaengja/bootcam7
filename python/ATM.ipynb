{
 "cells": [
  {
   "cell_type": "code",
   "execution_count": 76,
   "id": "ccc1e7a6",
   "metadata": {},
   "outputs": [
    {
     "name": "stdout",
     "output_type": "stream",
     "text": [
      "Hello pop, Welcome to TTB!\n",
      "Please enter amount\n",
      "Deposited 50. New balance: 250\n",
      "You have withdrawn 245. Your account balance is now 5.\n",
      "Checking balance... Your balance is 5.\n"
     ]
    }
   ],
   "source": [
    "import random\n",
    "\n",
    "class ATM:\n",
    "    def __init__(self, name, bank, balance=0.0):\n",
    "        self.name = name\n",
    "        self.bank = bank\n",
    "        self.balance = balance\n",
    "\n",
    "    def welcome(self):\n",
    "        messages = [f\"Hello {self.name}, Welcome to {self.bank}!\", \n",
    "                    f\"Welcome {self.name} to {self.bank}. We're happy to serve you!\", \n",
    "                    f\"Hi {self.name}, nice to see you at {self.bank}!\"]\n",
    "        print(random.choice(messages))\n",
    "        print(\"Please enter amount\")\n",
    "\n",
    "    def deposit(self, amount):\n",
    "        if amount <= 0:\n",
    "            print(\"You must deposit a positive amount.\")\n",
    "            return\n",
    "        self.balance += amount\n",
    "        messages = [f\"Deposited {amount}. New balance: {self.balance}\",\n",
    "                    f\"Great! Your deposit of {amount} has been successful. Your new balance is {self.balance}.\",\n",
    "                    f\"Thanks for your deposit. Your account balance is now {self.balance}.\"]\n",
    "        print(random.choice(messages))\n",
    "\n",
    "    def withdraw(self, amount):\n",
    "        if amount > self.balance:\n",
    "            print(\"You have insufficient balance for this withdrawal.\")\n",
    "            return\n",
    "        self.balance -= amount\n",
    "        messages = [f\"Withdrew {amount}. New balance: {self.balance}\",\n",
    "                    f\"Your withdrawal of {amount} is successful. Your new balance is {self.balance}.\",\n",
    "                    f\"You have withdrawn {amount}. Your account balance is now {self.balance}.\"]\n",
    "        print(random.choice(messages))\n",
    "\n",
    "    def check_balance(self):\n",
    "        messages = [f\"Your current balance is {self.balance}.\",\n",
    "                    f\"Checking balance... Your balance is {self.balance}.\",\n",
    "                    f\"As of now, your balance stands at {self.balance}.\"]\n",
    "        print(random.choice(messages))\n",
    "\n",
    "\n",
    "# Let's interact with the ATM\n",
    "Bank = ATM(\"pop\", \"TTB\", 200)\n",
    "\n",
    "Bank.welcome()\n",
    "\n",
    "Bank.deposit(50)\n",
    "\n",
    "Bank.withdraw(245)\n",
    "\n",
    "Bank.check_balance()\n"
   ]
  }
 ],
 "metadata": {
  "kernelspec": {
   "display_name": "Python 3 (ipykernel)",
   "language": "python",
   "name": "python3"
  },
  "language_info": {
   "codemirror_mode": {
    "name": "ipython",
    "version": 3
   },
   "file_extension": ".py",
   "mimetype": "text/x-python",
   "name": "python",
   "nbconvert_exporter": "python",
   "pygments_lexer": "ipython3",
   "version": "3.9.13"
  }
 },
 "nbformat": 4,
 "nbformat_minor": 5
}
